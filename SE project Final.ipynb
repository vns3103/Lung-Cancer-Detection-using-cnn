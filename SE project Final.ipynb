{
 "cells": [
  {
   "cell_type": "markdown",
   "metadata": {
    "colab_type": "text",
    "id": "3DR-eO17geWu"
   },
   "source": [
    "# Convolutional Neural Network"
   ]
  },
  {
   "cell_type": "markdown",
   "metadata": {
    "colab_type": "text",
    "id": "EMefrVPCg-60"
   },
   "source": [
    "### Importing the libraries"
   ]
  },
  {
   "cell_type": "code",
   "execution_count": 1,
   "metadata": {},
   "outputs": [],
   "source": [
    "import tensorflow as tf\n",
    "from keras.preprocessing.image import ImageDataGenerator\n",
    "from sklearn.preprocessing import OneHotEncoder\n",
    "import numpy as np\n",
    "import matplotlib.pyplot as plt\n",
    "import os"
   ]
  },
  {
   "cell_type": "markdown",
   "metadata": {
    "colab_type": "text",
    "id": "oxQxCBWyoGPE"
   },
   "source": [
    "## Part 1 - Data Preprocessing"
   ]
  },
  {
   "cell_type": "markdown",
   "metadata": {
    "colab_type": "text",
    "id": "MvE-heJNo3GG"
   },
   "source": [
    "### Preprocessing the Training set"
   ]
  },
  {
   "cell_type": "code",
   "execution_count": 2,
   "metadata": {},
   "outputs": [
    {
     "name": "stdout",
     "output_type": "stream",
     "text": [
      "Found 613 images belonging to 4 classes.\n"
     ]
    }
   ],
   "source": [
    "train_d1 = ImageDataGenerator(\n",
    "        rescale = 1./255,\n",
    "        shear_range = 0.2,\n",
    "        zoom_range = 0.2,\n",
    "        horizontal_flip = True) #from keras api datapreprocessing\n",
    "\n",
    "\n",
    "train_set = train_d1.flow_from_directory(\n",
    "        'D:/cnn main/Data/train',\n",
    "        target_size = (256,256),\n",
    "        batch_size = 32,\n",
    "        class_mode = 'categorical')"
   ]
  },
  {
   "cell_type": "markdown",
   "metadata": {
    "colab_type": "text",
    "id": "mrCMmGw9pHys"
   },
   "source": [
    "### Preprocessing the Test set"
   ]
  },
  {
   "cell_type": "code",
   "execution_count": 3,
   "metadata": {},
   "outputs": [
    {
     "name": "stdout",
     "output_type": "stream",
     "text": [
      "Found 315 images belonging to 4 classes.\n"
     ]
    }
   ],
   "source": [
    "test_d1 = ImageDataGenerator(rescale = 1./255)#rescales the image\n",
    "test_set = test_d1.flow_from_directory(\n",
    "        'D:/cnn main/Data/test',\n",
    "        target_size = (256,256),\n",
    "        batch_size = 32, #32 is a classical default value for the batches\n",
    "        class_mode = 'categorical')#as we have 4 different categories"
   ]
  },
  {
   "cell_type": "code",
   "execution_count": 4,
   "metadata": {},
   "outputs": [
    {
     "data": {
      "text/plain": [
       "<keras.preprocessing.image.DirectoryIterator at 0x218d5265040>"
      ]
     },
     "execution_count": 4,
     "metadata": {},
     "output_type": "execute_result"
    }
   ],
   "source": [
    "test_set\n"
   ]
  },
  {
   "cell_type": "code",
   "execution_count": 5,
   "metadata": {},
   "outputs": [],
   "source": [
    "#not appkying any of the data preprocessing to the test set as we want it to be new and if any of the preprocessing is \n",
    "#applied it will lead to data leakage"
   ]
  },
  {
   "cell_type": "markdown",
   "metadata": {
    "colab_type": "text",
    "id": "af8O4l90gk7B"
   },
   "source": [
    "## Part 2 - Building the CNN"
   ]
  },
  {
   "cell_type": "markdown",
   "metadata": {
    "colab_type": "text",
    "id": "ces1gXY2lmoX"
   },
   "source": [
    "### Initialising the CNN"
   ]
  },
  {
   "cell_type": "code",
   "execution_count": 6,
   "metadata": {},
   "outputs": [],
   "source": [
    "cnn = tf.keras.models.Sequential()"
   ]
  },
  {
   "cell_type": "markdown",
   "metadata": {
    "colab_type": "text",
    "id": "u5YJj_XMl5LF"
   },
   "source": [
    "### Step 1 - Convolution"
   ]
  },
  {
   "cell_type": "code",
   "execution_count": 7,
   "metadata": {},
   "outputs": [],
   "source": [
    "cnn.add(tf.keras.layers.Conv2D(32, (3, 3), activation='relu', input_shape=(256, 256, 3)))"
   ]
  },
  {
   "cell_type": "markdown",
   "metadata": {
    "colab_type": "text",
    "id": "tf87FpvxmNOJ"
   },
   "source": [
    "### Step 2 - Pooling"
   ]
  },
  {
   "cell_type": "code",
   "execution_count": 8,
   "metadata": {},
   "outputs": [],
   "source": [
    "cnn.add(tf.keras.layers.MaxPool2D(pool_size = 2,strides = 2))"
   ]
  },
  {
   "cell_type": "markdown",
   "metadata": {
    "colab_type": "text",
    "id": "xaTOgD8rm4mU"
   },
   "source": [
    "# Adding a second convolutional layer"
   ]
  },
  {
   "cell_type": "code",
   "execution_count": 9,
   "metadata": {},
   "outputs": [],
   "source": [
    "cnn.add(tf.keras.layers.Conv2D(filters = 32,kernel_size = 3,activation = 'relu'))\n",
    "cnn.add(tf.keras.layers.MaxPool2D(pool_size = 2,strides = 2))"
   ]
  },
  {
   "cell_type": "markdown",
   "metadata": {
    "colab_type": "text",
    "id": "tmiEuvTunKfk"
   },
   "source": [
    "### Step 3 - Flattening"
   ]
  },
  {
   "cell_type": "code",
   "execution_count": 10,
   "metadata": {},
   "outputs": [],
   "source": [
    "cnn.add(tf.keras.layers.Flatten())"
   ]
  },
  {
   "cell_type": "markdown",
   "metadata": {
    "colab_type": "text",
    "id": "dAoSECOm203v"
   },
   "source": [
    "### Step 4 - Full Connection"
   ]
  },
  {
   "cell_type": "code",
   "execution_count": 11,
   "metadata": {},
   "outputs": [],
   "source": [
    "cnn.add(tf.keras.layers.Dense(units = 128, activation = 'relu'))"
   ]
  },
  {
   "cell_type": "markdown",
   "metadata": {
    "colab_type": "text",
    "id": "yTldFvbX28Na"
   },
   "source": [
    "### Step 5 - Output Layer"
   ]
  },
  {
   "cell_type": "code",
   "execution_count": 12,
   "metadata": {},
   "outputs": [],
   "source": [
    "cnn.add(tf.keras.layers.Dense(units = 4, activation = 'softmax'))"
   ]
  },
  {
   "cell_type": "markdown",
   "metadata": {
    "colab_type": "text",
    "id": "D6XkI90snSDl"
   },
   "source": [
    "## Part 3 - Training the CNN"
   ]
  },
  {
   "cell_type": "markdown",
   "metadata": {
    "colab_type": "text",
    "id": "vfrFQACEnc6i"
   },
   "source": [
    "### Compiling the CNN"
   ]
  },
  {
   "cell_type": "code",
   "execution_count": 13,
   "metadata": {},
   "outputs": [],
   "source": [
    "cnn.compile(optimizer = 'adam',loss = 'categorical_crossentropy',metrics = ['accuracy'])"
   ]
  },
  {
   "cell_type": "markdown",
   "metadata": {
    "colab_type": "text",
    "id": "ehS-v3MIpX2h"
   },
   "source": [
    "### Training the CNN on the Training set and evaluating it on the Test set"
   ]
  },
  {
   "cell_type": "code",
   "execution_count": 14,
   "metadata": {},
   "outputs": [
    {
     "name": "stdout",
     "output_type": "stream",
     "text": [
      "Epoch 1/32\n",
      "20/20 [==============================] - 27s 1s/step - loss: 2.3221 - accuracy: 0.3083 - val_loss: 1.3077 - val_accuracy: 0.2032\n",
      "Epoch 2/32\n",
      "20/20 [==============================] - 26s 1s/step - loss: 1.1239 - accuracy: 0.4568 - val_loss: 1.2327 - val_accuracy: 0.4825\n",
      "Epoch 3/32\n",
      "20/20 [==============================] - 24s 1s/step - loss: 0.8556 - accuracy: 0.6378 - val_loss: 1.0803 - val_accuracy: 0.5524\n",
      "Epoch 4/32\n",
      "20/20 [==============================] - 24s 1s/step - loss: 0.7696 - accuracy: 0.6917 - val_loss: 1.7440 - val_accuracy: 0.3587\n",
      "Epoch 5/32\n",
      "20/20 [==============================] - 25s 1s/step - loss: 0.6276 - accuracy: 0.7504 - val_loss: 2.2629 - val_accuracy: 0.4381\n",
      "Epoch 6/32\n",
      "20/20 [==============================] - 24s 1s/step - loss: 0.5893 - accuracy: 0.7830 - val_loss: 2.9376 - val_accuracy: 0.4222\n",
      "Epoch 7/32\n",
      "20/20 [==============================] - 24s 1s/step - loss: 0.4960 - accuracy: 0.8075 - val_loss: 1.4937 - val_accuracy: 0.5365\n",
      "Epoch 8/32\n",
      "20/20 [==============================] - 24s 1s/step - loss: 0.4561 - accuracy: 0.8189 - val_loss: 2.1775 - val_accuracy: 0.4857\n",
      "Epoch 9/32\n",
      "20/20 [==============================] - 24s 1s/step - loss: 0.4155 - accuracy: 0.8434 - val_loss: 3.2491 - val_accuracy: 0.3937\n",
      "Epoch 10/32\n",
      "20/20 [==============================] - 24s 1s/step - loss: 0.3938 - accuracy: 0.8499 - val_loss: 4.6165 - val_accuracy: 0.3238\n",
      "Epoch 11/32\n",
      "20/20 [==============================] - 23s 1s/step - loss: 0.4971 - accuracy: 0.8108 - val_loss: 2.4181 - val_accuracy: 0.4921\n",
      "Epoch 12/32\n",
      "20/20 [==============================] - 24s 1s/step - loss: 0.3856 - accuracy: 0.8597 - val_loss: 1.8568 - val_accuracy: 0.5556\n",
      "Epoch 13/32\n",
      "20/20 [==============================] - 23s 1s/step - loss: 0.3402 - accuracy: 0.8728 - val_loss: 2.6752 - val_accuracy: 0.5175\n",
      "Epoch 14/32\n",
      "20/20 [==============================] - 24s 1s/step - loss: 0.2934 - accuracy: 0.8891 - val_loss: 1.9139 - val_accuracy: 0.6000\n",
      "Epoch 15/32\n",
      "20/20 [==============================] - 25s 1s/step - loss: 0.4977 - accuracy: 0.7961 - val_loss: 1.8305 - val_accuracy: 0.5778\n",
      "Epoch 16/32\n",
      "20/20 [==============================] - 26s 1s/step - loss: 0.3284 - accuracy: 0.8777 - val_loss: 1.9204 - val_accuracy: 0.5365\n",
      "Epoch 17/32\n",
      "20/20 [==============================] - 24s 1s/step - loss: 0.2673 - accuracy: 0.9054 - val_loss: 2.4167 - val_accuracy: 0.5778\n",
      "Epoch 18/32\n",
      "20/20 [==============================] - 24s 1s/step - loss: 0.3011 - accuracy: 0.9086 - val_loss: 2.0487 - val_accuracy: 0.5905\n",
      "Epoch 19/32\n",
      "20/20 [==============================] - 23s 1s/step - loss: 0.2629 - accuracy: 0.9103 - val_loss: 2.2850 - val_accuracy: 0.5905\n",
      "Epoch 20/32\n",
      "20/20 [==============================] - 24s 1s/step - loss: 0.2183 - accuracy: 0.9266 - val_loss: 3.1011 - val_accuracy: 0.5333\n",
      "Epoch 21/32\n",
      "20/20 [==============================] - 24s 1s/step - loss: 0.2362 - accuracy: 0.9086 - val_loss: 2.3935 - val_accuracy: 0.5238\n",
      "Epoch 22/32\n",
      "20/20 [==============================] - 24s 1s/step - loss: 0.2192 - accuracy: 0.9299 - val_loss: 2.8350 - val_accuracy: 0.5270\n",
      "Epoch 23/32\n",
      "20/20 [==============================] - 24s 1s/step - loss: 0.2175 - accuracy: 0.9266 - val_loss: 2.8623 - val_accuracy: 0.5048\n",
      "Epoch 24/32\n",
      "20/20 [==============================] - 24s 1s/step - loss: 0.1616 - accuracy: 0.9462 - val_loss: 3.2611 - val_accuracy: 0.4857\n",
      "Epoch 25/32\n",
      "20/20 [==============================] - 23s 1s/step - loss: 0.1781 - accuracy: 0.9380 - val_loss: 3.0448 - val_accuracy: 0.5143\n",
      "Epoch 26/32\n",
      "20/20 [==============================] - 23s 1s/step - loss: 0.1632 - accuracy: 0.9380 - val_loss: 2.5588 - val_accuracy: 0.5619\n",
      "Epoch 27/32\n",
      "20/20 [==============================] - 24s 1s/step - loss: 0.2587 - accuracy: 0.9217 - val_loss: 2.1552 - val_accuracy: 0.5619\n",
      "Epoch 28/32\n",
      "20/20 [==============================] - 24s 1s/step - loss: 0.1689 - accuracy: 0.9380 - val_loss: 2.3847 - val_accuracy: 0.5365\n",
      "Epoch 29/32\n",
      "20/20 [==============================] - 23s 1s/step - loss: 0.1689 - accuracy: 0.9250 - val_loss: 3.0059 - val_accuracy: 0.5429\n",
      "Epoch 30/32\n",
      "20/20 [==============================] - 24s 1s/step - loss: 0.1285 - accuracy: 0.9511 - val_loss: 2.7439 - val_accuracy: 0.5619\n",
      "Epoch 31/32\n",
      "20/20 [==============================] - 24s 1s/step - loss: 0.1503 - accuracy: 0.9462 - val_loss: 2.5291 - val_accuracy: 0.5587\n",
      "Epoch 32/32\n",
      "20/20 [==============================] - 23s 1s/step - loss: 0.1248 - accuracy: 0.9560 - val_loss: 2.8860 - val_accuracy: 0.5492\n"
     ]
    }
   ],
   "source": [
    "y_pred = cnn.fit(x = train_set,validation_data = test_set,epochs = 32)"
   ]
  },
  {
   "cell_type": "code",
   "execution_count": 15,
   "metadata": {},
   "outputs": [
    {
     "name": "stdout",
     "output_type": "stream",
     "text": [
      "20/20 [==============================] - 8s 402ms/step - loss: 0.0840 - accuracy: 0.9723\n",
      "10/10 [==============================] - 2s 211ms/step - loss: 2.8860 - accuracy: 0.5492\n",
      "Validation: accuracy = 0.549206  ;  loss_v = 2.886032\n",
      "Test: accuracy = 0.972268  ;  loss = 0.084034\n"
     ]
    }
   ],
   "source": [
    "loss, accuracy = cnn.evaluate(train_set)\n",
    "loss_v, accuracy_v = cnn.evaluate(test_set)\n",
    "print(\"Validation: accuracy = %f  ;  loss_v = %f\" % (accuracy_v, loss_v))\n",
    "print(\"Test: accuracy = %f  ;  loss = %f\" % (accuracy, loss))"
   ]
  },
  {
   "cell_type": "code",
   "execution_count": 16,
   "metadata": {},
   "outputs": [
    {
     "data": {
      "text/plain": [
       "keras.preprocessing.image.DirectoryIterator"
      ]
     },
     "execution_count": 16,
     "metadata": {},
     "output_type": "execute_result"
    }
   ],
   "source": [
    "type(test_set)"
   ]
  },
  {
   "cell_type": "markdown",
   "metadata": {
    "colab_type": "text",
    "id": "U3PZasO0006Z"
   },
   "source": [
    "## Part 4 - Making a single prediction"
   ]
  },
  {
   "cell_type": "code",
   "execution_count": 63,
   "metadata": {},
   "outputs": [
    {
     "name": "stdout",
     "output_type": "stream",
     "text": [
      "1/1 [==============================] - 0s 40ms/step\n",
      "[[1. 0. 0. 0.]]\n",
      "THE UPLOADED IMAGE IS SUSPECTED AS: Adenocarcinoma\n"
     ]
    }
   ],
   "source": [
    "\n",
    "from tensorflow.keras.preprocessing import image\n",
    "import numpy as np\n",
    "import cv2\n",
    "from PIL import Image\n",
    "test_img = image.load_img(\"D:/cnn main/Data/valid/adenocarcinoma_left.lower.lobe_T2_N0_M0_Ib/000116 (8).png\",target_size=(256,256))\n",
    "test_img = np.reshape(test_img,[256,256,3])\n",
    "test_img = np.expand_dims(test_img,axis=0)\n",
    "result = cnn.predict(test_img)\n",
    "print(result)\n",
    "a=np.argmax(result)\n",
    "if a==0:\n",
    "      op=\"Adenocarcinoma\"\n",
    "elif a==1:\n",
    "      op=\"large cell\"\n",
    "elif a==2:\n",
    "      op=\"normal (void of cancer)\"\n",
    "else:\n",
    "      op=\"squamous cell carcinoma\"    \n",
    "print(\"THE UPLOADED IMAGE IS SUSPECTED AS: \"+str(op)) "
   ]
  },
  {
   "cell_type": "code",
   "execution_count": null,
   "metadata": {},
   "outputs": [],
   "source": [
    "#print(prediction)"
   ]
  },
  {
   "cell_type": "code",
   "execution_count": 68,
   "metadata": {},
   "outputs": [],
   "source": [
    "from PIL import Image\n",
    "im = Image.open(\"D:/cnn main/Data/images/000113.png\")\n",
    "im.show()"
   ]
  },
  {
   "cell_type": "code",
   "execution_count": 69,
   "metadata": {},
   "outputs": [],
   "source": [
    "from IPython.display import Image\n",
    "img = Image(filename=\"D:/cnn main/Data/images/000113.png\")"
   ]
  },
  {
   "cell_type": "code",
   "execution_count": null,
   "metadata": {},
   "outputs": [],
   "source": []
  }
 ],
 "metadata": {
  "colab": {
   "authorship_tag": "ABX9TyON0YxX/oky4tPbqCLnFjWD",
   "collapsed_sections": [],
   "name": "convolutional_neural_network.ipynb",
   "provenance": [],
   "toc_visible": true
  },
  "kernelspec": {
   "display_name": "Python 3 (ipykernel)",
   "language": "python",
   "name": "python3"
  },
  "language_info": {
   "codemirror_mode": {
    "name": "ipython",
    "version": 3
   },
   "file_extension": ".py",
   "mimetype": "text/x-python",
   "name": "python",
   "nbconvert_exporter": "python",
   "pygments_lexer": "ipython3",
   "version": "3.9.12"
  }
 },
 "nbformat": 4,
 "nbformat_minor": 1
}
